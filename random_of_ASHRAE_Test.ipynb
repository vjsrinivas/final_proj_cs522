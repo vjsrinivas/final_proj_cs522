{
  "nbformat": 4,
  "nbformat_minor": 0,
  "metadata": {
    "colab": {
      "name": "Copy of ASHRAE_Test",
      "provenance": [],
      "collapsed_sections": [
        "MyPQFjuVEH4q"
      ]
    },
    "kernelspec": {
      "name": "python3",
      "display_name": "Python 3"
    },
    "language_info": {
      "name": "python"
    }
  },
  "cells": [
    {
      "cell_type": "markdown",
      "metadata": {
        "id": "h2QjjYSYD-9A"
      },
      "source": [
        "# Reduce Memory Footprint"
      ]
    },
    {
      "cell_type": "code",
      "metadata": {
        "id": "M4MyCD3Ye0Km",
        "colab": {
          "base_uri": "https://localhost:8080/",
          "height": 105
        },
        "outputId": "5ba86e0a-b45b-4ba5-be7f-26451126ae30"
      },
      "source": [
        "import gdown\n",
        "ashrae_url = \"https://drive.google.com/uc?id=1UWf5PYpIPv5TJnOE3eVZOekBiryBWobu\"\n",
        "output = \"ashrae.zip\"\n",
        "gdown.download(ashrae_url, output, quiet=False)"
      ],
      "execution_count": 1,
      "outputs": [
        {
          "output_type": "stream",
          "name": "stderr",
          "text": [
            "Downloading...\n",
            "From: https://drive.google.com/uc?id=1UWf5PYpIPv5TJnOE3eVZOekBiryBWobu\n",
            "To: /content/ashrae.zip\n",
            "100%|██████████| 397M/397M [00:02<00:00, 164MB/s]\n"
          ]
        },
        {
          "output_type": "execute_result",
          "data": {
            "application/vnd.google.colaboratory.intrinsic+json": {
              "type": "string"
            },
            "text/plain": [
              "'ashrae.zip'"
            ]
          },
          "metadata": {},
          "execution_count": 1
        }
      ]
    },
    {
      "cell_type": "code",
      "metadata": {
        "colab": {
          "base_uri": "https://localhost:8080/"
        },
        "id": "sQUqWtj66Gm_",
        "outputId": "dae24867-bdd0-45c7-ac73-f607e3efa657"
      },
      "source": [
        "# Unzip ASHRAE data:\n",
        "!unzip ashrae.zip\n",
        "!rm -rf ashrae.zip"
      ],
      "execution_count": 2,
      "outputs": [
        {
          "output_type": "stream",
          "name": "stdout",
          "text": [
            "Archive:  ashrae.zip\n",
            "  inflating: building_metadata.csv   \n",
            "  inflating: sample_submission.csv   \n",
            "  inflating: test.csv                \n",
            "  inflating: train.csv               \n",
            "  inflating: weather_test.csv        \n",
            "  inflating: weather_train.csv       \n"
          ]
        }
      ]
    },
    {
      "cell_type": "code",
      "metadata": {
        "colab": {
          "base_uri": "https://localhost:8080/"
        },
        "id": "gVxbfQbn8NVg",
        "outputId": "b6528f4e-2020-4378-9022-b43d5fc91928"
      },
      "source": [
        "# Load in training data:\n",
        "import pandas as pd\n",
        "import numpy as np\n",
        "\n",
        "train = pd.read_csv('train.csv')\n",
        "# Find the current data footprint of train dataframe:\n",
        "train.info()\n",
        "print()\n",
        "\n",
        "# Reduce datatype precision to lower memory:\n",
        "#print(np.max(train[\"building_id\"])) # maximum number is 1448 so we can fit it in int32\n",
        "#print(np.max(train[\"meter\"])) # to uint8 (range from 1 to 3 lol)\n",
        "#print(np.max(train[\"meter_reading\"])) # leave as float64\n",
        "train[\"building_id\"] = train[\"building_id\"].astype(np.int32)\n",
        "train[\"meter\"] = train[\"meter\"].astype(np.uint8)\n",
        "\n",
        "# new memory footprint:\n",
        "train.info()"
      ],
      "execution_count": 3,
      "outputs": [
        {
          "output_type": "stream",
          "name": "stdout",
          "text": [
            "<class 'pandas.core.frame.DataFrame'>\n",
            "RangeIndex: 20216100 entries, 0 to 20216099\n",
            "Data columns (total 4 columns):\n",
            " #   Column         Dtype  \n",
            "---  ------         -----  \n",
            " 0   building_id    int64  \n",
            " 1   meter          int64  \n",
            " 2   timestamp      object \n",
            " 3   meter_reading  float64\n",
            "dtypes: float64(1), int64(2), object(1)\n",
            "memory usage: 616.9+ MB\n",
            "\n",
            "<class 'pandas.core.frame.DataFrame'>\n",
            "RangeIndex: 20216100 entries, 0 to 20216099\n",
            "Data columns (total 4 columns):\n",
            " #   Column         Dtype  \n",
            "---  ------         -----  \n",
            " 0   building_id    int32  \n",
            " 1   meter          uint8  \n",
            " 2   timestamp      object \n",
            " 3   meter_reading  float64\n",
            "dtypes: float64(1), int32(1), object(1), uint8(1)\n",
            "memory usage: 404.9+ MB\n"
          ]
        }
      ]
    },
    {
      "cell_type": "code",
      "metadata": {
        "colab": {
          "base_uri": "https://localhost:8080/"
        },
        "id": "s9wDdrIK9-uM",
        "outputId": "0b6f0ea6-0c70-4cb5-da3c-065627ef8313"
      },
      "source": [
        "# Load in testing data:\n",
        "test = pd.read_csv('test.csv')\n",
        "# Find the current data footprint of train dataframe:\n",
        "test.info()\n",
        "print()\n",
        "\n",
        "# Reduce datatype precision to lower memory:\n",
        "#print(np.max(test[\"row_id\"])) # maximum number is 41 mil so we can fit it in int32\n",
        "#print(np.max(test[\"building_id\"])) # max number is 1448 so int32\n",
        "#print(np.max(test[\"meter\"])) # to uint8 (range from 1 to 3 lol)\n",
        "test[\"row_id\"] = test[\"row_id\"].astype(np.int32)\n",
        "test[\"building_id\"] = test[\"building_id\"].astype(np.int32)\n",
        "test[\"meter\"] = test[\"meter\"].astype(np.uint8)\n",
        "\n",
        "# new memory footprint:\n",
        "test.info() # reduced 1.2 GB to 676 MB"
      ],
      "execution_count": 4,
      "outputs": [
        {
          "output_type": "stream",
          "name": "stdout",
          "text": [
            "<class 'pandas.core.frame.DataFrame'>\n",
            "RangeIndex: 41697600 entries, 0 to 41697599\n",
            "Data columns (total 4 columns):\n",
            " #   Column       Dtype \n",
            "---  ------       ----- \n",
            " 0   row_id       int64 \n",
            " 1   building_id  int64 \n",
            " 2   meter        int64 \n",
            " 3   timestamp    object\n",
            "dtypes: int64(3), object(1)\n",
            "memory usage: 1.2+ GB\n",
            "\n",
            "<class 'pandas.core.frame.DataFrame'>\n",
            "RangeIndex: 41697600 entries, 0 to 41697599\n",
            "Data columns (total 4 columns):\n",
            " #   Column       Dtype \n",
            "---  ------       ----- \n",
            " 0   row_id       int32 \n",
            " 1   building_id  int32 \n",
            " 2   meter        uint8 \n",
            " 3   timestamp    object\n",
            "dtypes: int32(2), object(1), uint8(1)\n",
            "memory usage: 676.0+ MB\n"
          ]
        }
      ]
    },
    {
      "cell_type": "code",
      "metadata": {
        "colab": {
          "base_uri": "https://localhost:8080/"
        },
        "id": "pg8HKWP0AIGF",
        "outputId": "288d61c5-0440-4962-8c49-11754400122a"
      },
      "source": [
        "weather_train = pd.read_csv('weather_train.csv')\n",
        "# Find the current data footprint of train dataframe:\n",
        "weather_train.info()\n",
        "# no point in reducing 9.6 MB memory footprint...\n",
        "print()\n",
        "556\n",
        "weather_test = pd.read_csv('weather_test.csv')\n",
        "weather_test.info() # 19 MB memory\n",
        "print()\n",
        "\n",
        "meta = pd.read_csv('building_metadata.csv')\n",
        "meta.info() # KB..."
      ],
      "execution_count": 5,
      "outputs": [
        {
          "output_type": "stream",
          "name": "stdout",
          "text": [
            "<class 'pandas.core.frame.DataFrame'>\n",
            "RangeIndex: 139773 entries, 0 to 139772\n",
            "Data columns (total 9 columns):\n",
            " #   Column              Non-Null Count   Dtype  \n",
            "---  ------              --------------   -----  \n",
            " 0   site_id             139773 non-null  int64  \n",
            " 1   timestamp           139773 non-null  object \n",
            " 2   air_temperature     139718 non-null  float64\n",
            " 3   cloud_coverage      70600 non-null   float64\n",
            " 4   dew_temperature     139660 non-null  float64\n",
            " 5   precip_depth_1_hr   89484 non-null   float64\n",
            " 6   sea_level_pressure  129155 non-null  float64\n",
            " 7   wind_direction      133505 non-null  float64\n",
            " 8   wind_speed          139469 non-null  float64\n",
            "dtypes: float64(7), int64(1), object(1)\n",
            "memory usage: 9.6+ MB\n",
            "\n",
            "<class 'pandas.core.frame.DataFrame'>\n",
            "RangeIndex: 277243 entries, 0 to 277242\n",
            "Data columns (total 9 columns):\n",
            " #   Column              Non-Null Count   Dtype  \n",
            "---  ------              --------------   -----  \n",
            " 0   site_id             277243 non-null  int64  \n",
            " 1   timestamp           277243 non-null  object \n",
            " 2   air_temperature     277139 non-null  float64\n",
            " 3   cloud_coverage      136795 non-null  float64\n",
            " 4   dew_temperature     276916 non-null  float64\n",
            " 5   precip_depth_1_hr   181655 non-null  float64\n",
            " 6   sea_level_pressure  255978 non-null  float64\n",
            " 7   wind_direction      264873 non-null  float64\n",
            " 8   wind_speed          276783 non-null  float64\n",
            "dtypes: float64(7), int64(1), object(1)\n",
            "memory usage: 19.0+ MB\n",
            "\n",
            "<class 'pandas.core.frame.DataFrame'>\n",
            "RangeIndex: 1449 entries, 0 to 1448\n",
            "Data columns (total 6 columns):\n",
            " #   Column       Non-Null Count  Dtype  \n",
            "---  ------       --------------  -----  \n",
            " 0   site_id      1449 non-null   int64  \n",
            " 1   building_id  1449 non-null   int64  \n",
            " 2   primary_use  1449 non-null   object \n",
            " 3   square_feet  1449 non-null   int64  \n",
            " 4   year_built   675 non-null    float64\n",
            " 5   floor_count  355 non-null    float64\n",
            "dtypes: float64(2), int64(3), object(1)\n",
            "memory usage: 68.0+ KB\n"
          ]
        }
      ]
    },
    {
      "cell_type": "markdown",
      "metadata": {
        "id": "MyPQFjuVEH4q"
      },
      "source": [
        "# Visualization"
      ]
    },
    {
      "cell_type": "code",
      "metadata": {
        "id": "CBKoYXw2EKWM",
        "colab": {
          "base_uri": "https://localhost:8080/",
          "height": 424
        },
        "outputId": "ca465370-6776-4ab8-eaa6-9ce777613b6e"
      },
      "source": [
        "# TODO...\n",
        "train"
      ],
      "execution_count": null,
      "outputs": [
        {
          "output_type": "execute_result",
          "data": {
            "text/html": [
              "<div>\n",
              "<style scoped>\n",
              "    .dataframe tbody tr th:only-of-type {\n",
              "        vertical-align: middle;\n",
              "    }\n",
              "\n",
              "    .dataframe tbody tr th {\n",
              "        vertical-align: top;\n",
              "    }\n",
              "\n",
              "    .dataframe thead th {\n",
              "        text-align: right;\n",
              "    }\n",
              "</style>\n",
              "<table border=\"1\" class=\"dataframe\">\n",
              "  <thead>\n",
              "    <tr style=\"text-align: right;\">\n",
              "      <th></th>\n",
              "      <th>building_id</th>\n",
              "      <th>meter</th>\n",
              "      <th>timestamp</th>\n",
              "      <th>meter_reading</th>\n",
              "    </tr>\n",
              "  </thead>\n",
              "  <tbody>\n",
              "    <tr>\n",
              "      <th>0</th>\n",
              "      <td>0</td>\n",
              "      <td>0</td>\n",
              "      <td>2016-01-01 00:00:00</td>\n",
              "      <td>0.000</td>\n",
              "    </tr>\n",
              "    <tr>\n",
              "      <th>1</th>\n",
              "      <td>1</td>\n",
              "      <td>0</td>\n",
              "      <td>2016-01-01 00:00:00</td>\n",
              "      <td>0.000</td>\n",
              "    </tr>\n",
              "    <tr>\n",
              "      <th>2</th>\n",
              "      <td>2</td>\n",
              "      <td>0</td>\n",
              "      <td>2016-01-01 00:00:00</td>\n",
              "      <td>0.000</td>\n",
              "    </tr>\n",
              "    <tr>\n",
              "      <th>3</th>\n",
              "      <td>3</td>\n",
              "      <td>0</td>\n",
              "      <td>2016-01-01 00:00:00</td>\n",
              "      <td>0.000</td>\n",
              "    </tr>\n",
              "    <tr>\n",
              "      <th>4</th>\n",
              "      <td>4</td>\n",
              "      <td>0</td>\n",
              "      <td>2016-01-01 00:00:00</td>\n",
              "      <td>0.000</td>\n",
              "    </tr>\n",
              "    <tr>\n",
              "      <th>...</th>\n",
              "      <td>...</td>\n",
              "      <td>...</td>\n",
              "      <td>...</td>\n",
              "      <td>...</td>\n",
              "    </tr>\n",
              "    <tr>\n",
              "      <th>20216095</th>\n",
              "      <td>1444</td>\n",
              "      <td>0</td>\n",
              "      <td>2016-12-31 23:00:00</td>\n",
              "      <td>8.750</td>\n",
              "    </tr>\n",
              "    <tr>\n",
              "      <th>20216096</th>\n",
              "      <td>1445</td>\n",
              "      <td>0</td>\n",
              "      <td>2016-12-31 23:00:00</td>\n",
              "      <td>4.825</td>\n",
              "    </tr>\n",
              "    <tr>\n",
              "      <th>20216097</th>\n",
              "      <td>1446</td>\n",
              "      <td>0</td>\n",
              "      <td>2016-12-31 23:00:00</td>\n",
              "      <td>0.000</td>\n",
              "    </tr>\n",
              "    <tr>\n",
              "      <th>20216098</th>\n",
              "      <td>1447</td>\n",
              "      <td>0</td>\n",
              "      <td>2016-12-31 23:00:00</td>\n",
              "      <td>159.575</td>\n",
              "    </tr>\n",
              "    <tr>\n",
              "      <th>20216099</th>\n",
              "      <td>1448</td>\n",
              "      <td>0</td>\n",
              "      <td>2016-12-31 23:00:00</td>\n",
              "      <td>2.850</td>\n",
              "    </tr>\n",
              "  </tbody>\n",
              "</table>\n",
              "<p>20216100 rows × 4 columns</p>\n",
              "</div>"
            ],
            "text/plain": [
              "          building_id  meter            timestamp  meter_reading\n",
              "0                   0      0  2016-01-01 00:00:00          0.000\n",
              "1                   1      0  2016-01-01 00:00:00          0.000\n",
              "2                   2      0  2016-01-01 00:00:00          0.000\n",
              "3                   3      0  2016-01-01 00:00:00          0.000\n",
              "4                   4      0  2016-01-01 00:00:00          0.000\n",
              "...               ...    ...                  ...            ...\n",
              "20216095         1444      0  2016-12-31 23:00:00          8.750\n",
              "20216096         1445      0  2016-12-31 23:00:00          4.825\n",
              "20216097         1446      0  2016-12-31 23:00:00          0.000\n",
              "20216098         1447      0  2016-12-31 23:00:00        159.575\n",
              "20216099         1448      0  2016-12-31 23:00:00          2.850\n",
              "\n",
              "[20216100 rows x 4 columns]"
            ]
          },
          "metadata": {},
          "execution_count": 16
        }
      ]
    },
    {
      "cell_type": "code",
      "metadata": {
        "colab": {
          "base_uri": "https://localhost:8080/",
          "height": 424
        },
        "id": "FDSVaGymy8PR",
        "outputId": "48045f7d-31d5-42bc-cc18-50c94f6afd04"
      },
      "source": [
        "weather_train"
      ],
      "execution_count": null,
      "outputs": [
        {
          "output_type": "execute_result",
          "data": {
            "text/html": [
              "<div>\n",
              "<style scoped>\n",
              "    .dataframe tbody tr th:only-of-type {\n",
              "        vertical-align: middle;\n",
              "    }\n",
              "\n",
              "    .dataframe tbody tr th {\n",
              "        vertical-align: top;\n",
              "    }\n",
              "\n",
              "    .dataframe thead th {\n",
              "        text-align: right;\n",
              "    }\n",
              "</style>\n",
              "<table border=\"1\" class=\"dataframe\">\n",
              "  <thead>\n",
              "    <tr style=\"text-align: right;\">\n",
              "      <th></th>\n",
              "      <th>site_id</th>\n",
              "      <th>timestamp</th>\n",
              "      <th>air_temperature</th>\n",
              "      <th>cloud_coverage</th>\n",
              "      <th>dew_temperature</th>\n",
              "      <th>precip_depth_1_hr</th>\n",
              "      <th>sea_level_pressure</th>\n",
              "      <th>wind_direction</th>\n",
              "      <th>wind_speed</th>\n",
              "    </tr>\n",
              "  </thead>\n",
              "  <tbody>\n",
              "    <tr>\n",
              "      <th>0</th>\n",
              "      <td>0</td>\n",
              "      <td>2016-01-01 00:00:00</td>\n",
              "      <td>25.0</td>\n",
              "      <td>6.0</td>\n",
              "      <td>20.0</td>\n",
              "      <td>NaN</td>\n",
              "      <td>1019.7</td>\n",
              "      <td>0.0</td>\n",
              "      <td>0.0</td>\n",
              "    </tr>\n",
              "    <tr>\n",
              "      <th>1</th>\n",
              "      <td>0</td>\n",
              "      <td>2016-01-01 01:00:00</td>\n",
              "      <td>24.4</td>\n",
              "      <td>NaN</td>\n",
              "      <td>21.1</td>\n",
              "      <td>-1.0</td>\n",
              "      <td>1020.2</td>\n",
              "      <td>70.0</td>\n",
              "      <td>1.5</td>\n",
              "    </tr>\n",
              "    <tr>\n",
              "      <th>2</th>\n",
              "      <td>0</td>\n",
              "      <td>2016-01-01 02:00:00</td>\n",
              "      <td>22.8</td>\n",
              "      <td>2.0</td>\n",
              "      <td>21.1</td>\n",
              "      <td>0.0</td>\n",
              "      <td>1020.2</td>\n",
              "      <td>0.0</td>\n",
              "      <td>0.0</td>\n",
              "    </tr>\n",
              "    <tr>\n",
              "      <th>3</th>\n",
              "      <td>0</td>\n",
              "      <td>2016-01-01 03:00:00</td>\n",
              "      <td>21.1</td>\n",
              "      <td>2.0</td>\n",
              "      <td>20.6</td>\n",
              "      <td>0.0</td>\n",
              "      <td>1020.1</td>\n",
              "      <td>0.0</td>\n",
              "      <td>0.0</td>\n",
              "    </tr>\n",
              "    <tr>\n",
              "      <th>4</th>\n",
              "      <td>0</td>\n",
              "      <td>2016-01-01 04:00:00</td>\n",
              "      <td>20.0</td>\n",
              "      <td>2.0</td>\n",
              "      <td>20.0</td>\n",
              "      <td>-1.0</td>\n",
              "      <td>1020.0</td>\n",
              "      <td>250.0</td>\n",
              "      <td>2.6</td>\n",
              "    </tr>\n",
              "    <tr>\n",
              "      <th>...</th>\n",
              "      <td>...</td>\n",
              "      <td>...</td>\n",
              "      <td>...</td>\n",
              "      <td>...</td>\n",
              "      <td>...</td>\n",
              "      <td>...</td>\n",
              "      <td>...</td>\n",
              "      <td>...</td>\n",
              "      <td>...</td>\n",
              "    </tr>\n",
              "    <tr>\n",
              "      <th>139768</th>\n",
              "      <td>15</td>\n",
              "      <td>2016-12-31 19:00:00</td>\n",
              "      <td>3.0</td>\n",
              "      <td>NaN</td>\n",
              "      <td>-8.0</td>\n",
              "      <td>NaN</td>\n",
              "      <td>NaN</td>\n",
              "      <td>180.0</td>\n",
              "      <td>5.7</td>\n",
              "    </tr>\n",
              "    <tr>\n",
              "      <th>139769</th>\n",
              "      <td>15</td>\n",
              "      <td>2016-12-31 20:00:00</td>\n",
              "      <td>2.8</td>\n",
              "      <td>2.0</td>\n",
              "      <td>-8.9</td>\n",
              "      <td>NaN</td>\n",
              "      <td>1007.4</td>\n",
              "      <td>180.0</td>\n",
              "      <td>7.7</td>\n",
              "    </tr>\n",
              "    <tr>\n",
              "      <th>139770</th>\n",
              "      <td>15</td>\n",
              "      <td>2016-12-31 21:00:00</td>\n",
              "      <td>2.8</td>\n",
              "      <td>NaN</td>\n",
              "      <td>-7.2</td>\n",
              "      <td>NaN</td>\n",
              "      <td>1007.5</td>\n",
              "      <td>180.0</td>\n",
              "      <td>5.1</td>\n",
              "    </tr>\n",
              "    <tr>\n",
              "      <th>139771</th>\n",
              "      <td>15</td>\n",
              "      <td>2016-12-31 22:00:00</td>\n",
              "      <td>2.2</td>\n",
              "      <td>NaN</td>\n",
              "      <td>-6.7</td>\n",
              "      <td>NaN</td>\n",
              "      <td>1008.0</td>\n",
              "      <td>170.0</td>\n",
              "      <td>4.6</td>\n",
              "    </tr>\n",
              "    <tr>\n",
              "      <th>139772</th>\n",
              "      <td>15</td>\n",
              "      <td>2016-12-31 23:00:00</td>\n",
              "      <td>1.7</td>\n",
              "      <td>NaN</td>\n",
              "      <td>-5.6</td>\n",
              "      <td>-1.0</td>\n",
              "      <td>1008.5</td>\n",
              "      <td>180.0</td>\n",
              "      <td>8.8</td>\n",
              "    </tr>\n",
              "  </tbody>\n",
              "</table>\n",
              "<p>139773 rows × 9 columns</p>\n",
              "</div>"
            ],
            "text/plain": [
              "        site_id            timestamp  ...  wind_direction  wind_speed\n",
              "0             0  2016-01-01 00:00:00  ...             0.0         0.0\n",
              "1             0  2016-01-01 01:00:00  ...            70.0         1.5\n",
              "2             0  2016-01-01 02:00:00  ...             0.0         0.0\n",
              "3             0  2016-01-01 03:00:00  ...             0.0         0.0\n",
              "4             0  2016-01-01 04:00:00  ...           250.0         2.6\n",
              "...         ...                  ...  ...             ...         ...\n",
              "139768       15  2016-12-31 19:00:00  ...           180.0         5.7\n",
              "139769       15  2016-12-31 20:00:00  ...           180.0         7.7\n",
              "139770       15  2016-12-31 21:00:00  ...           180.0         5.1\n",
              "139771       15  2016-12-31 22:00:00  ...           170.0         4.6\n",
              "139772       15  2016-12-31 23:00:00  ...           180.0         8.8\n",
              "\n",
              "[139773 rows x 9 columns]"
            ]
          },
          "metadata": {},
          "execution_count": 17
        }
      ]
    },
    {
      "cell_type": "markdown",
      "metadata": {
        "id": "WYEMU-e0Ap8p"
      },
      "source": [
        "# Load Pre-Processed Data (Cleaned Up Data)"
      ]
    },
    {
      "cell_type": "code",
      "metadata": {
        "id": "7b1WngUcypXf",
        "colab": {
          "base_uri": "https://localhost:8080/",
          "height": 105
        },
        "outputId": "cd39969c-a06a-4cf4-c838-5a83cc6dc87c"
      },
      "source": [
        "import gdown\n",
        "import pandas as pd\n",
        "import numpy as np\n",
        "\n",
        "ashrae_url = \"https://drive.google.com/uc?id=1UlIpiR3Y6XiSWLhJGuaogrFgYsJns2FN\"\n",
        "output = \"cleaned_ashrae.csv\"\n",
        "gdown.download(ashrae_url, output, quiet=False)"
      ],
      "execution_count": 6,
      "outputs": [
        {
          "output_type": "stream",
          "name": "stderr",
          "text": [
            "Downloading...\n",
            "From: https://drive.google.com/uc?id=1UlIpiR3Y6XiSWLhJGuaogrFgYsJns2FN\n",
            "To: /content/cleaned_ashrae.csv\n",
            "100%|██████████| 2.76G/2.76G [00:35<00:00, 77.3MB/s]\n"
          ]
        },
        {
          "output_type": "execute_result",
          "data": {
            "application/vnd.google.colaboratory.intrinsic+json": {
              "type": "string"
            },
            "text/plain": [
              "'cleaned_ashrae.csv'"
            ]
          },
          "metadata": {},
          "execution_count": 6
        }
      ]
    },
    {
      "cell_type": "code",
      "metadata": {
        "colab": {
          "base_uri": "https://localhost:8080/",
          "height": 444
        },
        "id": "mKLst2dQFriw",
        "outputId": "0a6a6dbb-27ca-4078-f273-1ccbe29639a7"
      },
      "source": [
        "clean_train = pd.read_csv('cleaned_ashrae.csv') # with ALL 14 features\n",
        "\n",
        "# reduce memory:\n",
        "clean_train['timestamp'] = clean_train['timestamp'].astype(np.int64)\n",
        "clean_train['meter'] = clean_train['meter'].astype(np.uint8)\n",
        "clean_train['site_id'] = clean_train['site_id'].astype(np.int64)\n",
        "clean_train['primary_use'] = clean_train['primary_use'].astype(np.int64)\n",
        "\n",
        "clean_train = clean_train.drop(columns='floor_count')\n",
        "clean_train = clean_train.drop(columns='year_built')\n",
        "clean_train # NOTE: meter_reading is the target variable so is the 14th feature"
      ],
      "execution_count": 7,
      "outputs": [
        {
          "output_type": "execute_result",
          "data": {
            "text/html": [
              "<div>\n",
              "<style scoped>\n",
              "    .dataframe tbody tr th:only-of-type {\n",
              "        vertical-align: middle;\n",
              "    }\n",
              "\n",
              "    .dataframe tbody tr th {\n",
              "        vertical-align: top;\n",
              "    }\n",
              "\n",
              "    .dataframe thead th {\n",
              "        text-align: right;\n",
              "    }\n",
              "</style>\n",
              "<table border=\"1\" class=\"dataframe\">\n",
              "  <thead>\n",
              "    <tr style=\"text-align: right;\">\n",
              "      <th></th>\n",
              "      <th>building_id</th>\n",
              "      <th>meter</th>\n",
              "      <th>timestamp</th>\n",
              "      <th>site_id</th>\n",
              "      <th>primary_use</th>\n",
              "      <th>square_feet</th>\n",
              "      <th>air_temperature</th>\n",
              "      <th>cloud_coverage</th>\n",
              "      <th>dew_temperature</th>\n",
              "      <th>precip_depth_1_hr</th>\n",
              "      <th>sea_level_pressure</th>\n",
              "      <th>wind_direction</th>\n",
              "      <th>wind_speed</th>\n",
              "      <th>meter_reading</th>\n",
              "    </tr>\n",
              "  </thead>\n",
              "  <tbody>\n",
              "    <tr>\n",
              "      <th>0</th>\n",
              "      <td>0.0</td>\n",
              "      <td>0</td>\n",
              "      <td>1451606400</td>\n",
              "      <td>0</td>\n",
              "      <td>0</td>\n",
              "      <td>7432.0</td>\n",
              "      <td>25.0</td>\n",
              "      <td>6.0</td>\n",
              "      <td>20.0</td>\n",
              "      <td>-1.0</td>\n",
              "      <td>1019.700012</td>\n",
              "      <td>0.0</td>\n",
              "      <td>0.0</td>\n",
              "      <td>0.000</td>\n",
              "    </tr>\n",
              "    <tr>\n",
              "      <th>1</th>\n",
              "      <td>1.0</td>\n",
              "      <td>0</td>\n",
              "      <td>1451606400</td>\n",
              "      <td>0</td>\n",
              "      <td>0</td>\n",
              "      <td>2720.0</td>\n",
              "      <td>25.0</td>\n",
              "      <td>6.0</td>\n",
              "      <td>20.0</td>\n",
              "      <td>-1.0</td>\n",
              "      <td>1019.700012</td>\n",
              "      <td>0.0</td>\n",
              "      <td>0.0</td>\n",
              "      <td>0.000</td>\n",
              "    </tr>\n",
              "    <tr>\n",
              "      <th>2</th>\n",
              "      <td>2.0</td>\n",
              "      <td>0</td>\n",
              "      <td>1451606400</td>\n",
              "      <td>0</td>\n",
              "      <td>0</td>\n",
              "      <td>5376.0</td>\n",
              "      <td>25.0</td>\n",
              "      <td>6.0</td>\n",
              "      <td>20.0</td>\n",
              "      <td>-1.0</td>\n",
              "      <td>1019.700012</td>\n",
              "      <td>0.0</td>\n",
              "      <td>0.0</td>\n",
              "      <td>0.000</td>\n",
              "    </tr>\n",
              "    <tr>\n",
              "      <th>3</th>\n",
              "      <td>3.0</td>\n",
              "      <td>0</td>\n",
              "      <td>1451606400</td>\n",
              "      <td>0</td>\n",
              "      <td>0</td>\n",
              "      <td>23685.0</td>\n",
              "      <td>25.0</td>\n",
              "      <td>6.0</td>\n",
              "      <td>20.0</td>\n",
              "      <td>-1.0</td>\n",
              "      <td>1019.700012</td>\n",
              "      <td>0.0</td>\n",
              "      <td>0.0</td>\n",
              "      <td>0.000</td>\n",
              "    </tr>\n",
              "    <tr>\n",
              "      <th>4</th>\n",
              "      <td>4.0</td>\n",
              "      <td>0</td>\n",
              "      <td>1451606400</td>\n",
              "      <td>0</td>\n",
              "      <td>0</td>\n",
              "      <td>116607.0</td>\n",
              "      <td>25.0</td>\n",
              "      <td>6.0</td>\n",
              "      <td>20.0</td>\n",
              "      <td>-1.0</td>\n",
              "      <td>1019.700012</td>\n",
              "      <td>0.0</td>\n",
              "      <td>0.0</td>\n",
              "      <td>0.000</td>\n",
              "    </tr>\n",
              "    <tr>\n",
              "      <th>...</th>\n",
              "      <td>...</td>\n",
              "      <td>...</td>\n",
              "      <td>...</td>\n",
              "      <td>...</td>\n",
              "      <td>...</td>\n",
              "      <td>...</td>\n",
              "      <td>...</td>\n",
              "      <td>...</td>\n",
              "      <td>...</td>\n",
              "      <td>...</td>\n",
              "      <td>...</td>\n",
              "      <td>...</td>\n",
              "      <td>...</td>\n",
              "      <td>...</td>\n",
              "    </tr>\n",
              "    <tr>\n",
              "      <th>20216095</th>\n",
              "      <td>1444.0</td>\n",
              "      <td>0</td>\n",
              "      <td>1483225200</td>\n",
              "      <td>15</td>\n",
              "      <td>1</td>\n",
              "      <td>19619.0</td>\n",
              "      <td>1.7</td>\n",
              "      <td>-1.0</td>\n",
              "      <td>-5.6</td>\n",
              "      <td>-1.0</td>\n",
              "      <td>1008.500000</td>\n",
              "      <td>180.0</td>\n",
              "      <td>8.8</td>\n",
              "      <td>8.750</td>\n",
              "    </tr>\n",
              "    <tr>\n",
              "      <th>20216096</th>\n",
              "      <td>1445.0</td>\n",
              "      <td>0</td>\n",
              "      <td>1483225200</td>\n",
              "      <td>15</td>\n",
              "      <td>0</td>\n",
              "      <td>4298.0</td>\n",
              "      <td>1.7</td>\n",
              "      <td>-1.0</td>\n",
              "      <td>-5.6</td>\n",
              "      <td>-1.0</td>\n",
              "      <td>1008.500000</td>\n",
              "      <td>180.0</td>\n",
              "      <td>8.8</td>\n",
              "      <td>4.825</td>\n",
              "    </tr>\n",
              "    <tr>\n",
              "      <th>20216097</th>\n",
              "      <td>1446.0</td>\n",
              "      <td>0</td>\n",
              "      <td>1483225200</td>\n",
              "      <td>15</td>\n",
              "      <td>1</td>\n",
              "      <td>11265.0</td>\n",
              "      <td>1.7</td>\n",
              "      <td>-1.0</td>\n",
              "      <td>-5.6</td>\n",
              "      <td>-1.0</td>\n",
              "      <td>1008.500000</td>\n",
              "      <td>180.0</td>\n",
              "      <td>8.8</td>\n",
              "      <td>0.000</td>\n",
              "    </tr>\n",
              "    <tr>\n",
              "      <th>20216098</th>\n",
              "      <td>1447.0</td>\n",
              "      <td>0</td>\n",
              "      <td>1483225200</td>\n",
              "      <td>15</td>\n",
              "      <td>4</td>\n",
              "      <td>29775.0</td>\n",
              "      <td>1.7</td>\n",
              "      <td>-1.0</td>\n",
              "      <td>-5.6</td>\n",
              "      <td>-1.0</td>\n",
              "      <td>1008.500000</td>\n",
              "      <td>180.0</td>\n",
              "      <td>8.8</td>\n",
              "      <td>159.575</td>\n",
              "    </tr>\n",
              "    <tr>\n",
              "      <th>20216099</th>\n",
              "      <td>1448.0</td>\n",
              "      <td>0</td>\n",
              "      <td>1483225200</td>\n",
              "      <td>15</td>\n",
              "      <td>6</td>\n",
              "      <td>92271.0</td>\n",
              "      <td>1.7</td>\n",
              "      <td>-1.0</td>\n",
              "      <td>-5.6</td>\n",
              "      <td>-1.0</td>\n",
              "      <td>1008.500000</td>\n",
              "      <td>180.0</td>\n",
              "      <td>8.8</td>\n",
              "      <td>2.850</td>\n",
              "    </tr>\n",
              "  </tbody>\n",
              "</table>\n",
              "<p>20216100 rows × 14 columns</p>\n",
              "</div>"
            ],
            "text/plain": [
              "          building_id  meter  ...  wind_speed  meter_reading\n",
              "0                 0.0      0  ...         0.0          0.000\n",
              "1                 1.0      0  ...         0.0          0.000\n",
              "2                 2.0      0  ...         0.0          0.000\n",
              "3                 3.0      0  ...         0.0          0.000\n",
              "4                 4.0      0  ...         0.0          0.000\n",
              "...               ...    ...  ...         ...            ...\n",
              "20216095       1444.0      0  ...         8.8          8.750\n",
              "20216096       1445.0      0  ...         8.8          4.825\n",
              "20216097       1446.0      0  ...         8.8          0.000\n",
              "20216098       1447.0      0  ...         8.8        159.575\n",
              "20216099       1448.0      0  ...         8.8          2.850\n",
              "\n",
              "[20216100 rows x 14 columns]"
            ]
          },
          "metadata": {},
          "execution_count": 7
        }
      ]
    },
    {
      "cell_type": "code",
      "metadata": {
        "colab": {
          "base_uri": "https://localhost:8080/"
        },
        "id": "eMY7eYOVImaH",
        "outputId": "14e07fec-46d1-4e62-a799-6457f4c5cc8a"
      },
      "source": [
        "clean_train.info()"
      ],
      "execution_count": 8,
      "outputs": [
        {
          "output_type": "stream",
          "name": "stdout",
          "text": [
            "<class 'pandas.core.frame.DataFrame'>\n",
            "RangeIndex: 20216100 entries, 0 to 20216099\n",
            "Data columns (total 14 columns):\n",
            " #   Column              Dtype  \n",
            "---  ------              -----  \n",
            " 0   building_id         float64\n",
            " 1   meter               uint8  \n",
            " 2   timestamp           int64  \n",
            " 3   site_id             int64  \n",
            " 4   primary_use         int64  \n",
            " 5   square_feet         float64\n",
            " 6   air_temperature     float64\n",
            " 7   cloud_coverage      float64\n",
            " 8   dew_temperature     float64\n",
            " 9   precip_depth_1_hr   float64\n",
            " 10  sea_level_pressure  float64\n",
            " 11  wind_direction      float64\n",
            " 12  wind_speed          float64\n",
            " 13  meter_reading       float64\n",
            "dtypes: float64(10), int64(3), uint8(1)\n",
            "memory usage: 2.0 GB\n"
          ]
        }
      ]
    },
    {
      "cell_type": "code",
      "metadata": {
        "id": "8y8h47XSJbsT"
      },
      "source": [
        "#Taking random 10% sample of the data as test sample\n",
        "sample_train=clean_train.sample(frac=0.10)"
      ],
      "execution_count": 9,
      "outputs": []
    },
    {
      "cell_type": "code",
      "metadata": {
        "colab": {
          "base_uri": "https://localhost:8080/"
        },
        "id": "rSC_avYORDtQ",
        "outputId": "586ddef6-d301-4603-c037-32481b060a6e"
      },
      "source": [
        "#The new shape of the data\n",
        "sample_train.shape"
      ],
      "execution_count": 10,
      "outputs": [
        {
          "output_type": "execute_result",
          "data": {
            "text/plain": [
              "(2021610, 14)"
            ]
          },
          "metadata": {},
          "execution_count": 10
        }
      ]
    },
    {
      "cell_type": "code",
      "metadata": {
        "id": "QHwyEvx6RDwJ"
      },
      "source": [
        "#Spliting into features and target, so we remove the target\n",
        "X = sample_train.drop('meter_reading', axis = 1)\n",
        "Y = sample_train['meter_reading']"
      ],
      "execution_count": 14,
      "outputs": []
    },
    {
      "cell_type": "code",
      "metadata": {
        "colab": {
          "base_uri": "https://localhost:8080/"
        },
        "id": "pZx3tR3TRDzI",
        "outputId": "ddd2847a-24f4-4222-e656-b5bc8a05bb37"
      },
      "source": [
        "X.shape"
      ],
      "execution_count": 12,
      "outputs": [
        {
          "output_type": "execute_result",
          "data": {
            "text/plain": [
              "(2021610, 13)"
            ]
          },
          "metadata": {},
          "execution_count": 12
        }
      ]
    },
    {
      "cell_type": "code",
      "metadata": {
        "colab": {
          "base_uri": "https://localhost:8080/"
        },
        "id": "3_bX-HAnTVMA",
        "outputId": "3a664d1f-51ad-4dfd-8fef-b34f428f1e83"
      },
      "source": [
        "Y.shape"
      ],
      "execution_count": 15,
      "outputs": [
        {
          "output_type": "execute_result",
          "data": {
            "text/plain": [
              "(2021610,)"
            ]
          },
          "metadata": {},
          "execution_count": 15
        }
      ]
    },
    {
      "cell_type": "code",
      "metadata": {
        "id": "7qq9mlg5TwMi"
      },
      "source": [
        "from sklearn.model_selection import train_test_split\n",
        "\n",
        "X_train, X_test, Y_train, Y_test = train_test_split(X, Y, test_size=0.3, random_state=42)"
      ],
      "execution_count": 16,
      "outputs": []
    },
    {
      "cell_type": "code",
      "metadata": {
        "colab": {
          "base_uri": "https://localhost:8080/"
        },
        "id": "6z8aKQk2TVO7",
        "outputId": "28fc6de3-f127-4aa8-fcb3-9847e7741dbe"
      },
      "source": [
        "#Standardizing the features we using standard scalar\n",
        "from sklearn.preprocessing import StandardScaler\n",
        "scaler = StandardScaler()\n",
        "scaler.fit(X_train)"
      ],
      "execution_count": 17,
      "outputs": [
        {
          "output_type": "execute_result",
          "data": {
            "text/plain": [
              "StandardScaler()"
            ]
          },
          "metadata": {},
          "execution_count": 17
        }
      ]
    },
    {
      "cell_type": "code",
      "metadata": {
        "id": "r9tvtNICVDTp"
      },
      "source": [
        "X_train_scaled = scaler.transform(X_train)\n",
        "X_test_scaled = scaler.transform(X_test)"
      ],
      "execution_count": 18,
      "outputs": []
    },
    {
      "cell_type": "code",
      "metadata": {
        "colab": {
          "base_uri": "https://localhost:8080/"
        },
        "id": "xhgV-SXrVDXM",
        "outputId": "9825c49c-1a80-4fbe-df91-42ab624331b2"
      },
      "source": [
        "from sklearn.ensemble import RandomForestRegressor\n",
        "model = RandomForestRegressor(n_estimators = 20, random_state =30)\n",
        "model.fit(X_train_scaled,Y_train)"
      ],
      "execution_count": 21,
      "outputs": [
        {
          "output_type": "execute_result",
          "data": {
            "text/plain": [
              "RandomForestRegressor(n_estimators=20, random_state=30)"
            ]
          },
          "metadata": {},
          "execution_count": 21
        }
      ]
    },
    {
      "cell_type": "code",
      "metadata": {
        "id": "Tudm6cWDVDaj"
      },
      "source": [
        "Y_predict = model.predict(X_test_scaled)"
      ],
      "execution_count": 22,
      "outputs": []
    },
    {
      "cell_type": "code",
      "metadata": {
        "colab": {
          "base_uri": "https://localhost:8080/"
        },
        "id": "KW9I_RxEYCWA",
        "outputId": "74175d0f-c882-4653-82ef-2951688d4854"
      },
      "source": [
        "X_test_scaled.shape"
      ],
      "execution_count": 23,
      "outputs": [
        {
          "output_type": "execute_result",
          "data": {
            "text/plain": [
              "(606483, 13)"
            ]
          },
          "metadata": {},
          "execution_count": 23
        }
      ]
    },
    {
      "cell_type": "code",
      "metadata": {
        "id": "LHd-EAf_YCkp"
      },
      "source": [
        "from sklearn.metrics import mean_squared_error\n",
        "from sklearn.metrics import mean_absolute_error"
      ],
      "execution_count": 26,
      "outputs": []
    },
    {
      "cell_type": "code",
      "metadata": {
        "id": "au-dC8PsYCnJ"
      },
      "source": [
        "mse = mean_squared_error(Y_test,Y_predict)\n",
        "mbe = mean_absolute_error(Y_test,Y_predict)"
      ],
      "execution_count": 27,
      "outputs": []
    },
    {
      "cell_type": "code",
      "metadata": {
        "colab": {
          "base_uri": "https://localhost:8080/"
        },
        "id": "66pd3mx4Y04C",
        "outputId": "c50da4c6-d48d-4e9a-c853-056faf64c957"
      },
      "source": [
        "mse"
      ],
      "execution_count": 28,
      "outputs": [
        {
          "output_type": "execute_result",
          "data": {
            "text/plain": [
              "3823619050.922644"
            ]
          },
          "metadata": {},
          "execution_count": 28
        }
      ]
    },
    {
      "cell_type": "code",
      "metadata": {
        "colab": {
          "base_uri": "https://localhost:8080/"
        },
        "id": "enu_vHnwY065",
        "outputId": "6299d6cd-c20e-4b2e-9c59-1c02660ad8be"
      },
      "source": [
        "mbe"
      ],
      "execution_count": 29,
      "outputs": [
        {
          "output_type": "execute_result",
          "data": {
            "text/plain": [
              "733.8462913679524"
            ]
          },
          "metadata": {},
          "execution_count": 29
        }
      ]
    },
    {
      "cell_type": "code",
      "metadata": {
        "id": "amlLzUkIZUTe"
      },
      "source": [
        "\n",
        "def rmsle_metric(Y_test,Y_predict):\n",
        "  #Convert the pandas series to array\n",
        "  Y_test_array = Y_test.to_numpy()\n",
        "  n = len(Y_test_array)\n",
        "  value_list = []\n",
        "  for i in range(n):\n",
        "    pri = Y_predict[i]\n",
        "    act = Y_test_array[i]\n",
        "    log_pred = np.log(pri + 1)\n",
        "    log_act = np.log(act + 1)\n",
        "    value = (log_pred - log_act)**2\n",
        "    value_list.append(value)\n",
        "\n",
        "  msle = sum(value_list)/n\n",
        "  rmsle = np.sqrt(msle)\n",
        "  return rmsle\n"
      ],
      "execution_count": 82,
      "outputs": []
    },
    {
      "cell_type": "code",
      "metadata": {
        "colab": {
          "base_uri": "https://localhost:8080/"
        },
        "id": "XoqJrlt6ZUWV",
        "outputId": "8b1ce2e1-9443-4110-bdf2-979b908b15b2"
      },
      "source": [
        "rmsle_value = rmsle_metric(Y_test,Y_predict)\n",
        "rmsle_value"
      ],
      "execution_count": 83,
      "outputs": [
        {
          "output_type": "execute_result",
          "data": {
            "text/plain": [
              "0.898940671525392"
            ]
          },
          "metadata": {},
          "execution_count": 83
        }
      ]
    }
  ]
}